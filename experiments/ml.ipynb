{
 "cells": [
  {
   "cell_type": "code",
   "execution_count": 1,
   "metadata": {},
   "outputs": [],
   "source": [
    "import numpy as np\n",
    "import pandas as pd\n",
    "import json"
   ]
  },
  {
   "cell_type": "code",
   "execution_count": 2,
   "metadata": {},
   "outputs": [],
   "source": [
    "with open('./data/data.json', 'r') as file:\n",
    "    data_obj = json.load(file)\n",
    "\n",
    "with open('./data/stocks.json', 'r') as file:\n",
    "    stocks_obj = json.load(file)"
   ]
  },
  {
   "cell_type": "code",
   "execution_count": 3,
   "metadata": {},
   "outputs": [],
   "source": [
    "stocks = np.array(stocks_obj)"
   ]
  },
  {
   "cell_type": "code",
   "execution_count": 4,
   "metadata": {},
   "outputs": [
    {
     "data": {
      "text/plain": [
       "array(['A17U', 'AJBU', 'BN4', 'BS6', 'C07', 'C09', 'C31', 'C38U', 'C52',\n",
       "       'C61U', 'C6L', 'D01', 'D05', 'F34', 'G13', 'H78', 'J36', 'J37',\n",
       "       'M44U', 'ME8U', 'N2IU', 'O39', 'S58', 'S63', 'S68', 'U11', 'U14',\n",
       "       'U96', 'V03', 'Y92', 'Z74'], dtype='<U4')"
      ]
     },
     "execution_count": 4,
     "metadata": {},
     "output_type": "execute_result"
    }
   ],
   "source": [
    "stocks"
   ]
  },
  {
   "cell_type": "code",
   "execution_count": 5,
   "metadata": {},
   "outputs": [
    {
     "data": {
      "text/plain": [
       "dict_keys(['stock', 'title', 'summary', 'content'])"
      ]
     },
     "execution_count": 5,
     "metadata": {},
     "output_type": "execute_result"
    }
   ],
   "source": [
    "data_obj[0].keys()"
   ]
  },
  {
   "cell_type": "code",
   "execution_count": 6,
   "metadata": {},
   "outputs": [
    {
     "data": {
      "text/plain": [
       "{'stock': ['A17U', 'AJBU', 'C31', 'D05', 'BN4'],\n",
       " 'title': '[Funding Alert] ION Mobility Raises USD 3.3 Million Seed Round To Launch Smart Electric Motorbikes',\n",
       " 'summary': 'Funding will be used to launch electric motorbikes in Southeast Asia, expand market presence and develop its R&D supply chain and manufacturing capabilities',\n",
       " 'content': 'ION Mobility has raised USD 3.3 million in seed funding. Notable investors in the round include Monk’s Hill Ventures, TNB Aura, Village Global, kipleX and Seeds Capital. “There is no proven EV (electric vehicle) motorbike brand in Southeast Asia with products that can compel motorbike riders to join the inevitable electric revolution,” co-founder and Chief Executive Officer James Chan said. “We are committed to offering riders across Southeast Asia superior alternatives to their petrol-based motorbikes with our next-generation, smart and connected electric motorbikes that are clean, aspirational and affordable.” “Southeast Asia has one of the largest and fastest growing numbers of motorbike users in the world. With a rising middle class and newer generation of riders craving for affordable, cleaner and relatable motorbikes, ION Mobility is poised to combine technical performance, modern design, and mobile connectivity to the masses. We are excited to be working with James and Joel - representing a rare combination of technical, domain and market know-how - in creating the next iconic startup to emerge from Southeast Asia,” said Monk’s Hill Ventures co-founder and managing partner Kuo-Yi Lim. The market opportunity for the motorbike industry in Southeast Asia is expected to hit USD 8.53 billion by 2023. The establishment enters the market focusing on Indonesia which has one of the biggest motorbike markets globally, with 2019 motorcycle sales in Indonesia at 6.38 million units a year. It plans to launch its first EV motorbike in Indonesia in 2021. In addition, the company is set to expand its team and operations across Singapore, Jakarta and Shenzhen, develop its in-house research and development capabilities, and build up its supply chain and manufacturing partnerships. \"We at TNB Aura believe that the emergence of a local OEM (original equipment manufacturer) champion is both necessary and imminent, with Southeast Asia representing 8 per cent of the world population yet 25 per cent of global motorbike demand. We are excited to be supporting strong repeat entrepreneurs James and Joel in bringing a home-grown mainstream EV motorbike offering to the market, starting with Indonesia. Through pushing the boundaries of advanced manufacturing and design, we believe the ION Mobility team is uniquely positioned to take on this enormous opportunity,\" commented TNB Aura co-founder and managing partner Charles Wong. The company aims to convert over 200 million motorcycle users in Southeast Asia from petrol to electric to drive a sustainable future.'}"
      ]
     },
     "execution_count": 6,
     "metadata": {},
     "output_type": "execute_result"
    }
   ],
   "source": [
    "data_obj[0]"
   ]
  },
  {
   "cell_type": "code",
   "execution_count": 7,
   "metadata": {},
   "outputs": [],
   "source": [
    "df = pd.DataFrame()"
   ]
  },
  {
   "cell_type": "code",
   "execution_count": 8,
   "metadata": {},
   "outputs": [],
   "source": [
    "for data in data_obj:\n",
    "    for stock in data['stock']:\n",
    "        new_row = {\n",
    "            'stock': stock,\n",
    "            'title': data['title'],\n",
    "            'summary': data['summary'],\n",
    "            'content': data['content']\n",
    "        }\n",
    "        df = df.append(new_row, ignore_index=True)"
   ]
  },
  {
   "cell_type": "code",
   "execution_count": 9,
   "metadata": {},
   "outputs": [
    {
     "data": {
      "text/html": [
       "<div>\n",
       "<style scoped>\n",
       "    .dataframe tbody tr th:only-of-type {\n",
       "        vertical-align: middle;\n",
       "    }\n",
       "\n",
       "    .dataframe tbody tr th {\n",
       "        vertical-align: top;\n",
       "    }\n",
       "\n",
       "    .dataframe thead th {\n",
       "        text-align: right;\n",
       "    }\n",
       "</style>\n",
       "<table border=\"1\" class=\"dataframe\">\n",
       "  <thead>\n",
       "    <tr style=\"text-align: right;\">\n",
       "      <th></th>\n",
       "      <th>content</th>\n",
       "      <th>stock</th>\n",
       "      <th>summary</th>\n",
       "      <th>title</th>\n",
       "    </tr>\n",
       "  </thead>\n",
       "  <tbody>\n",
       "    <tr>\n",
       "      <th>0</th>\n",
       "      <td>ION Mobility has raised USD 3.3 million in see...</td>\n",
       "      <td>A17U</td>\n",
       "      <td>Funding will be used to launch electric motorb...</td>\n",
       "      <td>[Funding Alert] ION Mobility Raises USD 3.3 Mi...</td>\n",
       "    </tr>\n",
       "    <tr>\n",
       "      <th>1</th>\n",
       "      <td>ION Mobility has raised USD 3.3 million in see...</td>\n",
       "      <td>AJBU</td>\n",
       "      <td>Funding will be used to launch electric motorb...</td>\n",
       "      <td>[Funding Alert] ION Mobility Raises USD 3.3 Mi...</td>\n",
       "    </tr>\n",
       "    <tr>\n",
       "      <th>2</th>\n",
       "      <td>ION Mobility has raised USD 3.3 million in see...</td>\n",
       "      <td>C31</td>\n",
       "      <td>Funding will be used to launch electric motorb...</td>\n",
       "      <td>[Funding Alert] ION Mobility Raises USD 3.3 Mi...</td>\n",
       "    </tr>\n",
       "    <tr>\n",
       "      <th>3</th>\n",
       "      <td>ION Mobility has raised USD 3.3 million in see...</td>\n",
       "      <td>D05</td>\n",
       "      <td>Funding will be used to launch electric motorb...</td>\n",
       "      <td>[Funding Alert] ION Mobility Raises USD 3.3 Mi...</td>\n",
       "    </tr>\n",
       "    <tr>\n",
       "      <th>4</th>\n",
       "      <td>ION Mobility has raised USD 3.3 million in see...</td>\n",
       "      <td>BN4</td>\n",
       "      <td>Funding will be used to launch electric motorb...</td>\n",
       "      <td>[Funding Alert] ION Mobility Raises USD 3.3 Mi...</td>\n",
       "    </tr>\n",
       "    <tr>\n",
       "      <th>...</th>\n",
       "      <td>...</td>\n",
       "      <td>...</td>\n",
       "      <td>...</td>\n",
       "      <td>...</td>\n",
       "    </tr>\n",
       "    <tr>\n",
       "      <th>58</th>\n",
       "      <td>It wasn’t that long ago that working from home...</td>\n",
       "      <td>V03</td>\n",
       "      <td>Looking for out-of-the-box ways to make some e...</td>\n",
       "      <td>How to Make Money When You Can't Leave Your House</td>\n",
       "    </tr>\n",
       "    <tr>\n",
       "      <th>59</th>\n",
       "      <td>It wasn’t that long ago that working from home...</td>\n",
       "      <td>U96</td>\n",
       "      <td>Looking for out-of-the-box ways to make some e...</td>\n",
       "      <td>How to Make Money When You Can't Leave Your House</td>\n",
       "    </tr>\n",
       "    <tr>\n",
       "      <th>60</th>\n",
       "      <td>Access to financial services is one of the mos...</td>\n",
       "      <td>S58</td>\n",
       "      <td>Proliferation of cryptocurrencies has led to d...</td>\n",
       "      <td>This is How Fintech Ensures Equal Access to Fi...</td>\n",
       "    </tr>\n",
       "    <tr>\n",
       "      <th>61</th>\n",
       "      <td>Access to financial services is one of the mos...</td>\n",
       "      <td>S63</td>\n",
       "      <td>Proliferation of cryptocurrencies has led to d...</td>\n",
       "      <td>This is How Fintech Ensures Equal Access to Fi...</td>\n",
       "    </tr>\n",
       "    <tr>\n",
       "      <th>62</th>\n",
       "      <td>Access to financial services is one of the mos...</td>\n",
       "      <td>S68</td>\n",
       "      <td>Proliferation of cryptocurrencies has led to d...</td>\n",
       "      <td>This is How Fintech Ensures Equal Access to Fi...</td>\n",
       "    </tr>\n",
       "  </tbody>\n",
       "</table>\n",
       "<p>63 rows × 4 columns</p>\n",
       "</div>"
      ],
      "text/plain": [
       "                                              content stock  \\\n",
       "0   ION Mobility has raised USD 3.3 million in see...  A17U   \n",
       "1   ION Mobility has raised USD 3.3 million in see...  AJBU   \n",
       "2   ION Mobility has raised USD 3.3 million in see...   C31   \n",
       "3   ION Mobility has raised USD 3.3 million in see...   D05   \n",
       "4   ION Mobility has raised USD 3.3 million in see...   BN4   \n",
       "..                                                ...   ...   \n",
       "58  It wasn’t that long ago that working from home...   V03   \n",
       "59  It wasn’t that long ago that working from home...   U96   \n",
       "60  Access to financial services is one of the mos...   S58   \n",
       "61  Access to financial services is one of the mos...   S63   \n",
       "62  Access to financial services is one of the mos...   S68   \n",
       "\n",
       "                                              summary  \\\n",
       "0   Funding will be used to launch electric motorb...   \n",
       "1   Funding will be used to launch electric motorb...   \n",
       "2   Funding will be used to launch electric motorb...   \n",
       "3   Funding will be used to launch electric motorb...   \n",
       "4   Funding will be used to launch electric motorb...   \n",
       "..                                                ...   \n",
       "58  Looking for out-of-the-box ways to make some e...   \n",
       "59  Looking for out-of-the-box ways to make some e...   \n",
       "60  Proliferation of cryptocurrencies has led to d...   \n",
       "61  Proliferation of cryptocurrencies has led to d...   \n",
       "62  Proliferation of cryptocurrencies has led to d...   \n",
       "\n",
       "                                                title  \n",
       "0   [Funding Alert] ION Mobility Raises USD 3.3 Mi...  \n",
       "1   [Funding Alert] ION Mobility Raises USD 3.3 Mi...  \n",
       "2   [Funding Alert] ION Mobility Raises USD 3.3 Mi...  \n",
       "3   [Funding Alert] ION Mobility Raises USD 3.3 Mi...  \n",
       "4   [Funding Alert] ION Mobility Raises USD 3.3 Mi...  \n",
       "..                                                ...  \n",
       "58  How to Make Money When You Can't Leave Your House  \n",
       "59  How to Make Money When You Can't Leave Your House  \n",
       "60  This is How Fintech Ensures Equal Access to Fi...  \n",
       "61  This is How Fintech Ensures Equal Access to Fi...  \n",
       "62  This is How Fintech Ensures Equal Access to Fi...  \n",
       "\n",
       "[63 rows x 4 columns]"
      ]
     },
     "execution_count": 9,
     "metadata": {},
     "output_type": "execute_result"
    }
   ],
   "source": [
    "df"
   ]
  },
  {
   "cell_type": "code",
   "execution_count": 10,
   "metadata": {},
   "outputs": [
    {
     "data": {
      "text/plain": [
       "array(['A17U', 'AJBU', 'C31', 'D05', 'BN4', 'Z74', 'Y92', 'J37', 'S58',\n",
       "       'S63', 'S68', 'C52', 'J36', 'N2IU', 'U11', 'ME8U', 'M44U', 'C38U',\n",
       "       'C61U', 'D01', 'U96', 'O39', 'H78', 'G13', 'F34', 'C07', 'C6L',\n",
       "       'U14', 'V03', 'BS6', 'C09'], dtype=object)"
      ]
     },
     "execution_count": 10,
     "metadata": {},
     "output_type": "execute_result"
    }
   ],
   "source": [
    "df['stock'].unique()"
   ]
  },
  {
   "cell_type": "code",
   "execution_count": 11,
   "metadata": {},
   "outputs": [],
   "source": [
    "from sklearn.model_selection import train_test_split"
   ]
  },
  {
   "cell_type": "code",
   "execution_count": 30,
   "metadata": {},
   "outputs": [],
   "source": [
    "X_train, X_test, y_train, y_test = train_test_split(df['content'],\n",
    "                                                    df['stock'], \n",
    "                                                    train_size=0.75,\n",
    "                                                    test_size=0.25)"
   ]
  },
  {
   "cell_type": "code",
   "execution_count": 108,
   "metadata": {},
   "outputs": [],
   "source": [
    "X_train, y_train = df['title'] + df['summary'] + df['content'] , df['stock']"
   ]
  },
  {
   "cell_type": "code",
   "execution_count": 109,
   "metadata": {},
   "outputs": [
    {
     "data": {
      "text/plain": [
       "'[Funding Alert] ION Mobility Raises USD 3.3 Million Seed Round To Launch Smart Electric MotorbikesFunding will be used to launch electric motorbikes in Southeast Asia, expand market presence and develop its R&D supply chain and manufacturing capabilitiesION Mobility has raised USD 3.3 million in seed funding. Notable investors in the round include Monk’s Hill Ventures, TNB Aura, Village Global, kipleX and Seeds Capital. “There is no proven EV (electric vehicle) motorbike brand in Southeast Asia with products that can compel motorbike riders to join the inevitable electric revolution,” co-founder and Chief Executive Officer James Chan said. “We are committed to offering riders across Southeast Asia superior alternatives to their petrol-based motorbikes with our next-generation, smart and connected electric motorbikes that are clean, aspirational and affordable.” “Southeast Asia has one of the largest and fastest growing numbers of motorbike users in the world. With a rising middle class and newer generation of riders craving for affordable, cleaner and relatable motorbikes, ION Mobility is poised to combine technical performance, modern design, and mobile connectivity to the masses. We are excited to be working with James and Joel - representing a rare combination of technical, domain and market know-how - in creating the next iconic startup to emerge from Southeast Asia,” said Monk’s Hill Ventures co-founder and managing partner Kuo-Yi Lim. The market opportunity for the motorbike industry in Southeast Asia is expected to hit USD 8.53 billion by 2023. The establishment enters the market focusing on Indonesia which has one of the biggest motorbike markets globally, with 2019 motorcycle sales in Indonesia at 6.38 million units a year. It plans to launch its first EV motorbike in Indonesia in 2021. In addition, the company is set to expand its team and operations across Singapore, Jakarta and Shenzhen, develop its in-house research and development capabilities, and build up its supply chain and manufacturing partnerships. \"We at TNB Aura believe that the emergence of a local OEM (original equipment manufacturer) champion is both necessary and imminent, with Southeast Asia representing 8 per cent of the world population yet 25 per cent of global motorbike demand. We are excited to be supporting strong repeat entrepreneurs James and Joel in bringing a home-grown mainstream EV motorbike offering to the market, starting with Indonesia. Through pushing the boundaries of advanced manufacturing and design, we believe the ION Mobility team is uniquely positioned to take on this enormous opportunity,\" commented TNB Aura co-founder and managing partner Charles Wong. The company aims to convert over 200 million motorcycle users in Southeast Asia from petrol to electric to drive a sustainable future.'"
      ]
     },
     "execution_count": 109,
     "metadata": {},
     "output_type": "execute_result"
    }
   ],
   "source": [
    "X_train[0]"
   ]
  },
  {
   "cell_type": "code",
   "execution_count": 110,
   "metadata": {},
   "outputs": [
    {
     "data": {
      "text/plain": [
       "LogisticRegression(solver='liblinear')"
      ]
     },
     "execution_count": 110,
     "metadata": {},
     "output_type": "execute_result"
    }
   ],
   "source": [
    "# Use CountVectorizer to fit text data\n",
    "# Use LR to determine stock based on content with CountVectorizer\n",
    "from sklearn.feature_extraction.text import CountVectorizer\n",
    "from sklearn.linear_model import LogisticRegression\n",
    "\n",
    "# Count 1-grams, 2-grams, and 3-grams.\n",
    "cv = CountVectorizer(ngram_range=(1,3))\n",
    "cv.fit(X_train)\n",
    "lr = LogisticRegression(solver=\"liblinear\")\n",
    "lr.fit(cv.transform(X_train), y_train)"
   ]
  },
  {
   "cell_type": "code",
   "execution_count": 111,
   "metadata": {},
   "outputs": [
    {
     "data": {
      "text/plain": [
       "<63x12146 sparse matrix of type '<class 'numpy.int64'>'\n",
       "\twith 59507 stored elements in Compressed Sparse Row format>"
      ]
     },
     "execution_count": 111,
     "metadata": {},
     "output_type": "execute_result"
    }
   ],
   "source": [
    "cv.transform(X_train)"
   ]
  },
  {
   "cell_type": "code",
   "execution_count": 112,
   "metadata": {},
   "outputs": [],
   "source": [
    "# To compare results against\n",
    "X_final = np.array([\"In this ongoing series, we are sharing advice, tips and insights from real entrepreneurs who are out there doing business battle on a daily basis. (Answers have been edited and condensed for clarity.)This interview was conducted via email with Joe Duran, Head of Goldman Sachs Personal Financial Management.You started a company, United Capital, which was acquired by Goldman Sachs. What was that experience like?I had just sold my company to General Electric and made the decision to leave. I then interviewed 100 entrepreneurs who had successfully sold their businesses for my second book. Related: 10 Ways to Make Money While You SleepI started every interview by asking the question, 'What did it feel like after you sold?' And after they initially told me it was the American dream, everything you could imagine — I would tell them that it didn’t feel that way to me. Then they all, regardless of gender, background, or race, shared that it had felt like a death in the family and they would have done it differently. They had all made huge sacrifices in a manic race to be successful and get to the top. It was during this process while putting my book together that I came to the realization that we all make huge sacrifices for money, but money is just fuel. I needed to help people focus on living richly, rather than dying rich. I started United Capital to change the industry to make it more about life and less about money. The idea was to focus on having people understand what really mattered to them and use money to narrow the gap between the lives they wanted and the ones they were living. For entrepreneurs hoping to follow a similar trajectory, what do you think enabled you to catch the eye of Goldman Sachs compared to similar businesses? We have a unique client-centric culture that unifies all of us. We are on one platform delivering a consistent experience to all of our clients. That is extremely rare in the wealth management business, which is traditionally quite niche. I also feel that they believe, like I do, that we could do more together than apart and that they could accelerate their plans to expand the firm with our help.Why did you decide to stay on as Head of Personal Financial Management? I love new challenges. I’m learning more now than I ever have and I feel that I’m making a bigger impact too. The ability to take everything that we can now do and expand Goldman Sachs beyond the Ultra High Net Worth individuals they already served was and continues to be incredibly appealing to me and the entire team. What advice do you have for entrepreneurs looking to build and scale a business? First, you need to be adaptable to change. Keep your eyes on the big picture beyond your competitors and your industry. Client experience is evolving in every purchase of every product or service that we each make. Focus on how your clients live their lives and how the technology they use shapes their expectations of service.\"])"
   ]
  },
  {
   "cell_type": "code",
   "execution_count": 113,
   "metadata": {},
   "outputs": [
    {
     "data": {
      "text/plain": [
       "array(['D05'], dtype=object)"
      ]
     },
     "execution_count": 113,
     "metadata": {},
     "output_type": "execute_result"
    }
   ],
   "source": [
    "lr.predict(cv.transform(X_final))"
   ]
  },
  {
   "cell_type": "code",
   "execution_count": 114,
   "metadata": {},
   "outputs": [
    {
     "data": {
      "text/plain": [
       "array([0.09287634, 0.09287634, 0.00507786, 0.0011498 , 0.00833027,\n",
       "       0.0011498 , 0.14145518, 0.00739557, 0.02167238, 0.03748747,\n",
       "       0.00627235, 0.00665622, 0.14145518, 0.00833027, 0.02949637,\n",
       "       0.02076405, 0.00991554, 0.05816503, 0.0381703 , 0.00856204,\n",
       "       0.07134613, 0.01246772, 0.02358752, 0.02358753, 0.02358753,\n",
       "       0.00991554, 0.00439027, 0.03312253, 0.00914863, 0.0257941 ,\n",
       "       0.02579411])"
      ]
     },
     "execution_count": 114,
     "metadata": {},
     "output_type": "execute_result"
    }
   ],
   "source": [
    "Xprobs = lr.predict_proba(cv.transform(X_final))\n",
    "Xprobs[0]"
   ]
  },
  {
   "cell_type": "code",
   "execution_count": 115,
   "metadata": {},
   "outputs": [
    {
     "data": {
      "text/plain": [
       "31"
      ]
     },
     "execution_count": 115,
     "metadata": {},
     "output_type": "execute_result"
    }
   ],
   "source": [
    "len(Xprobs[0])"
   ]
  },
  {
   "cell_type": "code",
   "execution_count": 116,
   "metadata": {},
   "outputs": [],
   "source": [
    "X_final2 = np.array([\"In these troubled economic times, it's more important than ever to reign in control over your money. But personal finance doesn't come naturally to everyone. Fortunately, technology can help. If you're struggling to keep your finances under control, it's time to check out Toshl Finance.Toshl is a simple, intuitive app that acts as a personal financial assistant. Whether you want to limit your spending, create a long-term budget, or just see how much money you actually have, Toshl has you covered. With Toshl, you can note all of your expenses, incomes, and financial plans with detailed budgets so you know how every penny is allocated. It integrates automatically with more than 13,000 banks and financial services around the world, allowing you to input bank or credit card data automatically or manually in real-time. It even supports data entry for cash expenses in any currency, including cryptocurrencies.\"])"
   ]
  },
  {
   "cell_type": "code",
   "execution_count": 117,
   "metadata": {},
   "outputs": [
    {
     "data": {
      "text/plain": [
       "array(['U96'], dtype=object)"
      ]
     },
     "execution_count": 117,
     "metadata": {},
     "output_type": "execute_result"
    }
   ],
   "source": [
    "lr.predict(cv.transform(X_final2))"
   ]
  },
  {
   "cell_type": "code",
   "execution_count": 118,
   "metadata": {},
   "outputs": [
    {
     "data": {
      "text/plain": [
       "array([[0.09287634, 0.09287634, 0.00507786, 0.0011498 , 0.00833027,\n",
       "        0.0011498 , 0.14145518, 0.00739557, 0.02167238, 0.03748747,\n",
       "        0.00627235, 0.00665622, 0.14145518, 0.00833027, 0.02949637,\n",
       "        0.02076405, 0.00991554, 0.05816503, 0.0381703 , 0.00856204,\n",
       "        0.07134613, 0.01246772, 0.02358752, 0.02358753, 0.02358753,\n",
       "        0.00991554, 0.00439027, 0.03312253, 0.00914863, 0.0257941 ,\n",
       "        0.02579411]])"
      ]
     },
     "execution_count": 118,
     "metadata": {},
     "output_type": "execute_result"
    }
   ],
   "source": [
    "Xprobs = lr.predict_proba(cv.transform(X_final))\n",
    "Xprobs"
   ]
  },
  {
   "cell_type": "code",
   "execution_count": 119,
   "metadata": {},
   "outputs": [
    {
     "data": {
      "text/plain": [
       "31"
      ]
     },
     "execution_count": 119,
     "metadata": {},
     "output_type": "execute_result"
    }
   ],
   "source": [
    "len(Xprobs[0])"
   ]
  },
  {
   "cell_type": "code",
   "execution_count": 120,
   "metadata": {},
   "outputs": [
    {
     "data": {
      "text/plain": [
       "array(['A17U', 'AJBU', 'BN4', 'BS6', 'C07', 'C09', 'C31', 'C38U', 'C52',\n",
       "       'C61U', 'C6L', 'D01', 'D05', 'F34', 'G13', 'H78', 'J36', 'J37',\n",
       "       'M44U', 'ME8U', 'N2IU', 'O39', 'S58', 'S63', 'S68', 'U11', 'U14',\n",
       "       'U96', 'V03', 'Y92', 'Z74'], dtype='<U4')"
      ]
     },
     "execution_count": 120,
     "metadata": {},
     "output_type": "execute_result"
    }
   ],
   "source": [
    "stocks"
   ]
  },
  {
   "cell_type": "code",
   "execution_count": 121,
   "metadata": {},
   "outputs": [
    {
     "data": {
      "text/plain": [
       "0.14145518499087054"
      ]
     },
     "execution_count": 121,
     "metadata": {},
     "output_type": "execute_result"
    }
   ],
   "source": [
    "max(Xprobs[0])"
   ]
  },
  {
   "cell_type": "code",
   "execution_count": 122,
   "metadata": {},
   "outputs": [],
   "source": [
    "stockProb = list(zip(y_train.unique(), Xprobs[0]))"
   ]
  },
  {
   "cell_type": "code",
   "execution_count": 123,
   "metadata": {},
   "outputs": [
    {
     "data": {
      "text/plain": [
       "[('J36', 0.14145518499087054),\n",
       " ('Y92', 0.14145518493177722),\n",
       " ('AJBU', 0.09287633601197583),\n",
       " ('A17U', 0.09287633581137669),\n",
       " ('U96', 0.0713461303330668),\n",
       " ('C38U', 0.058165033237010895),\n",
       " ('C61U', 0.03817030236475767),\n",
       " ('S63', 0.037487473240177545),\n",
       " ('U14', 0.03312253467147795),\n",
       " ('U11', 0.02949636869899736),\n",
       " ('C09', 0.025794106849528042),\n",
       " ('BS6', 0.025794098243884095),\n",
       " ('F34', 0.02358752793837854),\n",
       " ('G13', 0.023587527071942418),\n",
       " ('H78', 0.023587524500873463),\n",
       " ('S58', 0.02167237986748802),\n",
       " ('ME8U', 0.02076405346793793),\n",
       " ('O39', 0.012467720193190847),\n",
       " ('C07', 0.009915539188624261),\n",
       " ('M44U', 0.009915539188612939),\n",
       " ('V03', 0.00914863471355187),\n",
       " ('D01', 0.008562042486393154),\n",
       " ('N2IU', 0.008330273550947514),\n",
       " ('BN4', 0.008330273550934169),\n",
       " ('J37', 0.007395573490213187),\n",
       " ('C52', 0.006656218284937274),\n",
       " ('S68', 0.006272348934110424),\n",
       " ('C31', 0.005077862664784726),\n",
       " ('C6L', 0.004390267962769443),\n",
       " ('D05', 0.0011498017797045227),\n",
       " ('Z74', 0.0011498017797045167)]"
      ]
     },
     "execution_count": 123,
     "metadata": {},
     "output_type": "execute_result"
    }
   ],
   "source": [
    "sorted(stockProb, key=lambda x: x[1], reverse=True)"
   ]
  },
  {
   "cell_type": "code",
   "execution_count": null,
   "metadata": {},
   "outputs": [],
   "source": []
  }
 ],
 "metadata": {
  "kernelspec": {
   "display_name": "Python 3",
   "language": "python",
   "name": "python3"
  },
  "language_info": {
   "codemirror_mode": {
    "name": "ipython",
    "version": 3
   },
   "file_extension": ".py",
   "mimetype": "text/x-python",
   "name": "python",
   "nbconvert_exporter": "python",
   "pygments_lexer": "ipython3",
   "version": "3.8.6"
  }
 },
 "nbformat": 4,
 "nbformat_minor": 4
}
